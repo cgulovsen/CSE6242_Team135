{
  "cells": [
    {
      "cell_type": "code",
      "execution_count": 1,
      "metadata": {
        "colab": {
          "base_uri": "https://localhost:8080/"
        },
        "id": "pYIB8HMEyYO0",
        "outputId": "571e9177-2e86-426d-e2b1-52ddc5170ac2"
      },
      "outputs": [
        {
          "output_type": "stream",
          "name": "stdout",
          "text": [
            "Mounted at /content/drive\n",
            "/content/drive/MyDrive\n"
          ]
        }
      ],
      "source": [
        "from google.colab import drive\n",
        "drive.mount('/content/drive')\n",
        "% cd drive/MyDrive/"
      ]
    },
    {
      "cell_type": "code",
      "execution_count": 17,
      "metadata": {
        "id": "pLqrsqmNyo5s"
      },
      "outputs": [],
      "source": [
        "import pandas as pd\n",
        "import numpy as np\n",
        "from PIL import Image\n",
        "from pathlib import Path\n",
        "from torch.utils.data import Dataset, DataLoader\n",
        "from torchvision import transforms as T\n",
        "import torchvision.models as models\n",
        "import torch\n",
        "import torch.nn as nn\n",
        "import matplotlib.pyplot as plt\n",
        "import pickle"
      ]
    },
    {
      "cell_type": "code",
      "source": [
        "epochs = 10\n",
        "batch_size = 32\n",
        "lr = 0.005\n",
        "num_workers = 3\n",
        "image_height, image_width = 64, 64"
      ],
      "metadata": {
        "id": "5442C8oM2s-1"
      },
      "execution_count": 6,
      "outputs": []
    },
    {
      "cell_type": "code",
      "execution_count": 7,
      "metadata": {
        "id": "CxiBGDOhy4JF"
      },
      "outputs": [],
      "source": [
        "class CustomDataset(Dataset):\n",
        "    def __init__(self, csv_path, image_folder, column_label):\n",
        "        assert Path(csv_path).exists()\n",
        "        assert Path(csv_path).is_file()\n",
        "        \n",
        "        assert Path(image_folder).exists() \n",
        "        assert Path(image_folder).is_dir()\n",
        "        \n",
        "        \n",
        "        self.df = pd.read_csv(csv_path)\n",
        "        self.image_folder = Path(image_folder)\n",
        "        self.transform = T.Compose([\n",
        "            T.ToTensor(),\n",
        "            T.Resize((image_height, image_width)),\n",
        "            T.Normalize((0.485, 0.456, 0.406), (0.229, 0.224, 0.225))\n",
        "        ])\n",
        "        \n",
        "        assert column_label in self.df.columns\n",
        "        self.column_label = column_label\n",
        "    \n",
        "    def __len__(self):\n",
        "        return len(self.df)\n",
        "    \n",
        "    def __getitem__(self, index):\n",
        "        filename = self.df.loc[index]['Id'] + '.jpg'\n",
        "        image_path = self.image_folder.joinpath(filename)\n",
        "        image = self.transform(Image.open(image_path))\n",
        "        \n",
        "        label = self.df.loc[index][self.column_label]\n",
        "        \n",
        "        return image, label"
      ]
    },
    {
      "cell_type": "code",
      "execution_count": 8,
      "metadata": {
        "id": "48v1-YLfzHNT"
      },
      "outputs": [],
      "source": [
        "pawpularity_dataset = CustomDataset('petfinder_data/train.csv', 'petfinder_data/train/', 'Pawpularity')\n",
        "train_size = int(len(pawpularity_dataset) * 0.8)\n",
        "test_size = len(pawpularity_dataset) - train_size\n",
        "paw_train_data, paw_test_data = torch.utils.data.random_split(pawpularity_dataset, [train_size, test_size])"
      ]
    },
    {
      "cell_type": "code",
      "execution_count": 9,
      "metadata": {
        "id": "SrsDII7R1K1a",
        "colab": {
          "base_uri": "https://localhost:8080/"
        },
        "outputId": "db4976ec-ce74-48dc-9ef9-4f1082a75ec5"
      },
      "outputs": [
        {
          "output_type": "stream",
          "name": "stderr",
          "text": [
            "/usr/local/lib/python3.7/dist-packages/torch/utils/data/dataloader.py:481: UserWarning: This DataLoader will create 3 worker processes in total. Our suggested max number of worker in current system is 2, which is smaller than what this DataLoader is going to create. Please be aware that excessive worker creation might get DataLoader running slow or even freeze, lower the worker number to avoid potential slowness/freeze if necessary.\n",
            "  cpuset_checked))\n"
          ]
        }
      ],
      "source": [
        "train_data = torch.utils.data.DataLoader(paw_train_data, shuffle=True, batch_size=batch_size, num_workers=num_workers)\n",
        "test_data = torch.utils.data.DataLoader(paw_test_data, shuffle=True, batch_size=batch_size, num_workers=num_workers)"
      ]
    },
    {
      "cell_type": "code",
      "execution_count": 10,
      "metadata": {
        "colab": {
          "base_uri": "https://localhost:8080/",
          "height": 87,
          "referenced_widgets": [
            "bb8cab14919a48c1b82ccd080f6c1d4e",
            "65b9ea68e82f4a0a84289e26515e887e",
            "57f8d954eed14b659445c210e63fa276",
            "d98b55b96de64eeb8ddf750d9d980ace",
            "55d10bfdf1fc4074b500b54c90b4a34e",
            "cc50f7c968214c979698584845dc9027",
            "19d6d51f5c634787a100e7116fd4f233",
            "11ebcdf7e20e4a238c064fdb40dd97ca",
            "dcd2f4a114de435aa4b0c7e03e0521fd",
            "c0d3eaac1a13465bb83982d9dd548259",
            "e520c18de15c4ec6b26d4580bc15c200"
          ]
        },
        "id": "f1v2mhCb1lro",
        "outputId": "dffce613-c1af-4824-b859-1f6f0be77bd7"
      },
      "outputs": [
        {
          "output_type": "stream",
          "name": "stderr",
          "text": [
            "Downloading: \"https://download.pytorch.org/models/efficientnet_b3_rwightman-cf984f9c.pth\" to /root/.cache/torch/hub/checkpoints/efficientnet_b3_rwightman-cf984f9c.pth\n"
          ]
        },
        {
          "output_type": "display_data",
          "data": {
            "text/plain": [
              "  0%|          | 0.00/47.2M [00:00<?, ?B/s]"
            ],
            "application/vnd.jupyter.widget-view+json": {
              "version_major": 2,
              "version_minor": 0,
              "model_id": "bb8cab14919a48c1b82ccd080f6c1d4e"
            }
          },
          "metadata": {}
        }
      ],
      "source": [
        "# set device\n",
        "device = torch.device(\"cuda:0\" if torch.cuda.is_available() else \"cpu\")\n",
        "\n",
        "# import efficient net\n",
        "efficient_net = models.efficientnet_b3(pretrained=True).to(device)\n",
        "\n",
        "# don't update on model parameters\n",
        "for param in efficient_net.parameters():\n",
        "    param.requires_grad = False\n",
        "\n",
        "# replace model classifier to fit our data\n",
        "efficient_net.classifier[1] = nn.Sequential(nn.Sequential(\n",
        "                    nn.Linear(1536, 256),\n",
        "                    nn.ReLU(), \n",
        "                    nn.Dropout(0.2),\n",
        "                    nn.Linear(256, 1)).to(device))"
      ]
    },
    {
      "cell_type": "code",
      "execution_count": 11,
      "metadata": {
        "id": "osi2Zf291z-w"
      },
      "outputs": [],
      "source": [
        "criterion = nn.L1Loss()\n",
        "optimizer = torch.optim.Adam(efficient_net.classifier.parameters(), lr=lr)"
      ]
    },
    {
      "cell_type": "code",
      "execution_count": 12,
      "metadata": {
        "colab": {
          "base_uri": "https://localhost:8080/"
        },
        "id": "QD5td__A2ENU",
        "outputId": "34714c04-f050-420b-de18-7315c0010591"
      },
      "outputs": [
        {
          "output_type": "stream",
          "name": "stderr",
          "text": [
            "/usr/local/lib/python3.7/dist-packages/torch/utils/data/dataloader.py:481: UserWarning: This DataLoader will create 3 worker processes in total. Our suggested max number of worker in current system is 2, which is smaller than what this DataLoader is going to create. Please be aware that excessive worker creation might get DataLoader running slow or even freeze, lower the worker number to avoid potential slowness/freeze if necessary.\n",
            "  cpuset_checked))\n"
          ]
        },
        {
          "output_type": "stream",
          "name": "stdout",
          "text": [
            "Epoch: 0   \t Batch:   0/248  \t Avg Train Loss: 28.31\n",
            "Epoch: 0   \t Batch:  10/248  \t Avg Train Loss: 26.61\n",
            "Epoch: 0   \t Batch:  20/248  \t Avg Train Loss: 25.35\n",
            "Epoch: 0   \t Batch:  30/248  \t Avg Train Loss: 24.25\n",
            "Epoch: 0   \t Batch:  40/248  \t Avg Train Loss: 24.10\n",
            "Epoch: 0   \t Batch:  50/248  \t Avg Train Loss: 23.65\n",
            "Epoch: 0   \t Batch:  60/248  \t Avg Train Loss: 23.30\n",
            "Epoch: 0   \t Batch:  70/248  \t Avg Train Loss: 23.05\n",
            "Epoch: 0   \t Batch:  80/248  \t Avg Train Loss: 22.68\n",
            "Epoch: 0   \t Batch:  90/248  \t Avg Train Loss: 22.57\n",
            "Epoch: 0   \t Batch: 100/248  \t Avg Train Loss: 22.06\n",
            "Epoch: 0   \t Batch: 110/248  \t Avg Train Loss: 21.78\n",
            "Epoch: 0   \t Batch: 120/248  \t Avg Train Loss: 21.50\n",
            "Epoch: 0   \t Batch: 130/248  \t Avg Train Loss: 21.32\n",
            "Epoch: 0   \t Batch: 140/248  \t Avg Train Loss: 21.06\n",
            "Epoch: 0   \t Batch: 150/248  \t Avg Train Loss: 20.88\n",
            "Epoch: 0   \t Batch: 160/248  \t Avg Train Loss: 20.64\n",
            "Epoch: 0   \t Batch: 170/248  \t Avg Train Loss: 20.52\n",
            "Epoch: 0   \t Batch: 180/248  \t Avg Train Loss: 20.35\n",
            "Epoch: 0   \t Batch: 190/248  \t Avg Train Loss: 20.21\n",
            "Epoch: 0   \t Batch: 200/248  \t Avg Train Loss: 20.09\n",
            "Epoch: 0   \t Batch: 210/248  \t Avg Train Loss: 19.95\n",
            "Epoch: 0   \t Batch: 220/248  \t Avg Train Loss: 19.79\n",
            "Epoch: 0   \t Batch: 230/248  \t Avg Train Loss: 19.67\n",
            "Epoch: 0   \t Batch: 240/248  \t Avg Train Loss: 19.59\n",
            "Epoch: 0   \t Batch:   0/62  \t Avg Test Loss: 23.58\n",
            "Epoch: 0   \t Batch:  10/62  \t Avg Test Loss: 19.36\n",
            "Epoch: 0   \t Batch:  20/62  \t Avg Test Loss: 18.42\n",
            "Epoch: 0   \t Batch:  30/62  \t Avg Test Loss: 18.06\n",
            "Epoch: 0   \t Batch:  40/62  \t Avg Test Loss: 17.55\n",
            "Epoch: 0   \t Batch:  50/62  \t Avg Test Loss: 17.29\n",
            "Epoch: 0   \t Batch:  60/62  \t Avg Test Loss: 17.21\n",
            "Epoch: 1   \t Batch:   0/248  \t Avg Train Loss: 20.83\n",
            "Epoch: 1   \t Batch:  10/248  \t Avg Train Loss: 17.31\n",
            "Epoch: 1   \t Batch:  20/248  \t Avg Train Loss: 17.74\n",
            "Epoch: 1   \t Batch:  30/248  \t Avg Train Loss: 17.39\n",
            "Epoch: 1   \t Batch:  40/248  \t Avg Train Loss: 17.60\n",
            "Epoch: 1   \t Batch:  50/248  \t Avg Train Loss: 17.47\n",
            "Epoch: 1   \t Batch:  60/248  \t Avg Train Loss: 17.55\n",
            "Epoch: 1   \t Batch:  70/248  \t Avg Train Loss: 17.61\n",
            "Epoch: 1   \t Batch:  80/248  \t Avg Train Loss: 17.66\n",
            "Epoch: 1   \t Batch:  90/248  \t Avg Train Loss: 17.66\n",
            "Epoch: 1   \t Batch: 100/248  \t Avg Train Loss: 17.51\n",
            "Epoch: 1   \t Batch: 110/248  \t Avg Train Loss: 17.36\n",
            "Epoch: 1   \t Batch: 120/248  \t Avg Train Loss: 17.35\n",
            "Epoch: 1   \t Batch: 130/248  \t Avg Train Loss: 17.25\n",
            "Epoch: 1   \t Batch: 140/248  \t Avg Train Loss: 17.38\n",
            "Epoch: 1   \t Batch: 150/248  \t Avg Train Loss: 17.43\n",
            "Epoch: 1   \t Batch: 160/248  \t Avg Train Loss: 17.32\n",
            "Epoch: 1   \t Batch: 170/248  \t Avg Train Loss: 17.30\n",
            "Epoch: 1   \t Batch: 180/248  \t Avg Train Loss: 17.31\n",
            "Epoch: 1   \t Batch: 190/248  \t Avg Train Loss: 17.30\n",
            "Epoch: 1   \t Batch: 200/248  \t Avg Train Loss: 17.32\n",
            "Epoch: 1   \t Batch: 210/248  \t Avg Train Loss: 17.24\n",
            "Epoch: 1   \t Batch: 220/248  \t Avg Train Loss: 17.24\n",
            "Epoch: 1   \t Batch: 230/248  \t Avg Train Loss: 17.20\n",
            "Epoch: 1   \t Batch: 240/248  \t Avg Train Loss: 17.26\n",
            "Epoch: 1   \t Batch:   0/62  \t Avg Test Loss: 13.99\n",
            "Epoch: 1   \t Batch:  10/62  \t Avg Test Loss: 14.71\n",
            "Epoch: 1   \t Batch:  20/62  \t Avg Test Loss: 16.06\n",
            "Epoch: 1   \t Batch:  30/62  \t Avg Test Loss: 15.80\n",
            "Epoch: 1   \t Batch:  40/62  \t Avg Test Loss: 15.88\n",
            "Epoch: 1   \t Batch:  50/62  \t Avg Test Loss: 16.19\n",
            "Epoch: 1   \t Batch:  60/62  \t Avg Test Loss: 16.41\n",
            "Epoch: 2   \t Batch:   0/248  \t Avg Train Loss: 14.26\n",
            "Epoch: 2   \t Batch:  10/248  \t Avg Train Loss: 16.67\n",
            "Epoch: 2   \t Batch:  20/248  \t Avg Train Loss: 16.03\n",
            "Epoch: 2   \t Batch:  30/248  \t Avg Train Loss: 16.30\n",
            "Epoch: 2   \t Batch:  40/248  \t Avg Train Loss: 16.24\n",
            "Epoch: 2   \t Batch:  50/248  \t Avg Train Loss: 16.28\n",
            "Epoch: 2   \t Batch:  60/248  \t Avg Train Loss: 16.21\n",
            "Epoch: 2   \t Batch:  70/248  \t Avg Train Loss: 16.16\n",
            "Epoch: 2   \t Batch:  80/248  \t Avg Train Loss: 16.15\n",
            "Epoch: 2   \t Batch:  90/248  \t Avg Train Loss: 16.15\n",
            "Epoch: 2   \t Batch: 100/248  \t Avg Train Loss: 16.14\n",
            "Epoch: 2   \t Batch: 110/248  \t Avg Train Loss: 16.22\n",
            "Epoch: 2   \t Batch: 120/248  \t Avg Train Loss: 16.22\n",
            "Epoch: 2   \t Batch: 130/248  \t Avg Train Loss: 16.19\n",
            "Epoch: 2   \t Batch: 140/248  \t Avg Train Loss: 16.24\n",
            "Epoch: 2   \t Batch: 150/248  \t Avg Train Loss: 16.29\n",
            "Epoch: 2   \t Batch: 160/248  \t Avg Train Loss: 16.31\n",
            "Epoch: 2   \t Batch: 170/248  \t Avg Train Loss: 16.24\n",
            "Epoch: 2   \t Batch: 180/248  \t Avg Train Loss: 16.26\n",
            "Epoch: 2   \t Batch: 190/248  \t Avg Train Loss: 16.18\n",
            "Epoch: 2   \t Batch: 200/248  \t Avg Train Loss: 16.20\n",
            "Epoch: 2   \t Batch: 210/248  \t Avg Train Loss: 16.28\n",
            "Epoch: 2   \t Batch: 220/248  \t Avg Train Loss: 16.32\n",
            "Epoch: 2   \t Batch: 230/248  \t Avg Train Loss: 16.33\n",
            "Epoch: 2   \t Batch: 240/248  \t Avg Train Loss: 16.37\n",
            "Epoch: 2   \t Batch:   0/62  \t Avg Test Loss: 22.34\n",
            "Epoch: 2   \t Batch:  10/62  \t Avg Test Loss: 16.37\n",
            "Epoch: 2   \t Batch:  20/62  \t Avg Test Loss: 16.90\n",
            "Epoch: 2   \t Batch:  30/62  \t Avg Test Loss: 16.52\n",
            "Epoch: 2   \t Batch:  40/62  \t Avg Test Loss: 16.58\n",
            "Epoch: 2   \t Batch:  50/62  \t Avg Test Loss: 16.17\n",
            "Epoch: 2   \t Batch:  60/62  \t Avg Test Loss: 16.55\n",
            "Epoch: 3   \t Batch:   0/248  \t Avg Train Loss: 14.63\n",
            "Epoch: 3   \t Batch:  10/248  \t Avg Train Loss: 15.97\n",
            "Epoch: 3   \t Batch:  20/248  \t Avg Train Loss: 15.42\n",
            "Epoch: 3   \t Batch:  30/248  \t Avg Train Loss: 15.38\n",
            "Epoch: 3   \t Batch:  40/248  \t Avg Train Loss: 15.32\n",
            "Epoch: 3   \t Batch:  50/248  \t Avg Train Loss: 15.14\n",
            "Epoch: 3   \t Batch:  60/248  \t Avg Train Loss: 15.23\n",
            "Epoch: 3   \t Batch:  70/248  \t Avg Train Loss: 15.45\n",
            "Epoch: 3   \t Batch:  80/248  \t Avg Train Loss: 15.44\n",
            "Epoch: 3   \t Batch:  90/248  \t Avg Train Loss: 15.63\n",
            "Epoch: 3   \t Batch: 100/248  \t Avg Train Loss: 15.91\n",
            "Epoch: 3   \t Batch: 110/248  \t Avg Train Loss: 15.88\n",
            "Epoch: 3   \t Batch: 120/248  \t Avg Train Loss: 16.01\n",
            "Epoch: 3   \t Batch: 130/248  \t Avg Train Loss: 16.19\n",
            "Epoch: 3   \t Batch: 140/248  \t Avg Train Loss: 16.21\n",
            "Epoch: 3   \t Batch: 150/248  \t Avg Train Loss: 16.15\n",
            "Epoch: 3   \t Batch: 160/248  \t Avg Train Loss: 16.19\n",
            "Epoch: 3   \t Batch: 170/248  \t Avg Train Loss: 16.25\n",
            "Epoch: 3   \t Batch: 180/248  \t Avg Train Loss: 16.26\n",
            "Epoch: 3   \t Batch: 190/248  \t Avg Train Loss: 16.25\n",
            "Epoch: 3   \t Batch: 200/248  \t Avg Train Loss: 16.22\n",
            "Epoch: 3   \t Batch: 210/248  \t Avg Train Loss: 16.25\n",
            "Epoch: 3   \t Batch: 220/248  \t Avg Train Loss: 16.18\n",
            "Epoch: 3   \t Batch: 230/248  \t Avg Train Loss: 16.24\n",
            "Epoch: 3   \t Batch: 240/248  \t Avg Train Loss: 16.26\n",
            "Epoch: 3   \t Batch:   0/62  \t Avg Test Loss: 18.64\n",
            "Epoch: 3   \t Batch:  10/62  \t Avg Test Loss: 15.46\n",
            "Epoch: 3   \t Batch:  20/62  \t Avg Test Loss: 16.62\n",
            "Epoch: 3   \t Batch:  30/62  \t Avg Test Loss: 16.34\n",
            "Epoch: 3   \t Batch:  40/62  \t Avg Test Loss: 16.50\n",
            "Epoch: 3   \t Batch:  50/62  \t Avg Test Loss: 16.78\n",
            "Epoch: 3   \t Batch:  60/62  \t Avg Test Loss: 16.68\n",
            "Epoch: 4   \t Batch:   0/248  \t Avg Train Loss: 19.93\n",
            "Epoch: 4   \t Batch:  10/248  \t Avg Train Loss: 16.82\n",
            "Epoch: 4   \t Batch:  20/248  \t Avg Train Loss: 16.47\n",
            "Epoch: 4   \t Batch:  30/248  \t Avg Train Loss: 16.28\n",
            "Epoch: 4   \t Batch:  40/248  \t Avg Train Loss: 16.34\n",
            "Epoch: 4   \t Batch:  50/248  \t Avg Train Loss: 16.58\n",
            "Epoch: 4   \t Batch:  60/248  \t Avg Train Loss: 16.58\n",
            "Epoch: 4   \t Batch:  70/248  \t Avg Train Loss: 16.43\n",
            "Epoch: 4   \t Batch:  80/248  \t Avg Train Loss: 16.46\n",
            "Epoch: 4   \t Batch:  90/248  \t Avg Train Loss: 16.60\n",
            "Epoch: 4   \t Batch: 100/248  \t Avg Train Loss: 16.59\n",
            "Epoch: 4   \t Batch: 110/248  \t Avg Train Loss: 16.46\n",
            "Epoch: 4   \t Batch: 120/248  \t Avg Train Loss: 16.37\n",
            "Epoch: 4   \t Batch: 130/248  \t Avg Train Loss: 16.33\n",
            "Epoch: 4   \t Batch: 140/248  \t Avg Train Loss: 16.22\n",
            "Epoch: 4   \t Batch: 150/248  \t Avg Train Loss: 16.20\n",
            "Epoch: 4   \t Batch: 160/248  \t Avg Train Loss: 16.15\n",
            "Epoch: 4   \t Batch: 170/248  \t Avg Train Loss: 16.25\n",
            "Epoch: 4   \t Batch: 180/248  \t Avg Train Loss: 16.21\n",
            "Epoch: 4   \t Batch: 190/248  \t Avg Train Loss: 16.09\n",
            "Epoch: 4   \t Batch: 200/248  \t Avg Train Loss: 16.05\n",
            "Epoch: 4   \t Batch: 210/248  \t Avg Train Loss: 16.08\n",
            "Epoch: 4   \t Batch: 220/248  \t Avg Train Loss: 16.08\n",
            "Epoch: 4   \t Batch: 230/248  \t Avg Train Loss: 16.07\n",
            "Epoch: 4   \t Batch: 240/248  \t Avg Train Loss: 16.10\n",
            "Epoch: 4   \t Batch:   0/62  \t Avg Test Loss: 15.74\n",
            "Epoch: 4   \t Batch:  10/62  \t Avg Test Loss: 16.72\n",
            "Epoch: 4   \t Batch:  20/62  \t Avg Test Loss: 16.04\n",
            "Epoch: 4   \t Batch:  30/62  \t Avg Test Loss: 16.13\n",
            "Epoch: 4   \t Batch:  40/62  \t Avg Test Loss: 16.20\n",
            "Epoch: 4   \t Batch:  50/62  \t Avg Test Loss: 16.18\n",
            "Epoch: 4   \t Batch:  60/62  \t Avg Test Loss: 16.36\n",
            "Epoch: 5   \t Batch:   0/248  \t Avg Train Loss: 12.63\n",
            "Epoch: 5   \t Batch:  10/248  \t Avg Train Loss: 16.77\n",
            "Epoch: 5   \t Batch:  20/248  \t Avg Train Loss: 16.58\n",
            "Epoch: 5   \t Batch:  30/248  \t Avg Train Loss: 16.50\n",
            "Epoch: 5   \t Batch:  40/248  \t Avg Train Loss: 16.68\n",
            "Epoch: 5   \t Batch:  50/248  \t Avg Train Loss: 16.75\n",
            "Epoch: 5   \t Batch:  60/248  \t Avg Train Loss: 16.74\n",
            "Epoch: 5   \t Batch:  70/248  \t Avg Train Loss: 16.67\n",
            "Epoch: 5   \t Batch:  80/248  \t Avg Train Loss: 16.39\n",
            "Epoch: 5   \t Batch:  90/248  \t Avg Train Loss: 16.49\n",
            "Epoch: 5   \t Batch: 100/248  \t Avg Train Loss: 16.40\n",
            "Epoch: 5   \t Batch: 110/248  \t Avg Train Loss: 16.49\n",
            "Epoch: 5   \t Batch: 120/248  \t Avg Train Loss: 16.46\n",
            "Epoch: 5   \t Batch: 130/248  \t Avg Train Loss: 16.50\n",
            "Epoch: 5   \t Batch: 140/248  \t Avg Train Loss: 16.45\n",
            "Epoch: 5   \t Batch: 150/248  \t Avg Train Loss: 16.34\n",
            "Epoch: 5   \t Batch: 160/248  \t Avg Train Loss: 16.35\n",
            "Epoch: 5   \t Batch: 170/248  \t Avg Train Loss: 16.36\n",
            "Epoch: 5   \t Batch: 180/248  \t Avg Train Loss: 16.25\n",
            "Epoch: 5   \t Batch: 190/248  \t Avg Train Loss: 16.21\n",
            "Epoch: 5   \t Batch: 200/248  \t Avg Train Loss: 16.15\n",
            "Epoch: 5   \t Batch: 210/248  \t Avg Train Loss: 16.17\n",
            "Epoch: 5   \t Batch: 220/248  \t Avg Train Loss: 16.17\n",
            "Epoch: 5   \t Batch: 230/248  \t Avg Train Loss: 16.15\n",
            "Epoch: 5   \t Batch: 240/248  \t Avg Train Loss: 16.11\n",
            "Epoch: 5   \t Batch:   0/62  \t Avg Test Loss: 11.45\n",
            "Epoch: 5   \t Batch:  10/62  \t Avg Test Loss: 15.14\n",
            "Epoch: 5   \t Batch:  20/62  \t Avg Test Loss: 15.81\n",
            "Epoch: 5   \t Batch:  30/62  \t Avg Test Loss: 16.40\n",
            "Epoch: 5   \t Batch:  40/62  \t Avg Test Loss: 16.20\n",
            "Epoch: 5   \t Batch:  50/62  \t Avg Test Loss: 16.15\n",
            "Epoch: 5   \t Batch:  60/62  \t Avg Test Loss: 15.96\n",
            "Epoch: 6   \t Batch:   0/248  \t Avg Train Loss: 19.65\n",
            "Epoch: 6   \t Batch:  10/248  \t Avg Train Loss: 16.63\n",
            "Epoch: 6   \t Batch:  20/248  \t Avg Train Loss: 16.09\n",
            "Epoch: 6   \t Batch:  30/248  \t Avg Train Loss: 16.12\n",
            "Epoch: 6   \t Batch:  40/248  \t Avg Train Loss: 16.10\n",
            "Epoch: 6   \t Batch:  50/248  \t Avg Train Loss: 16.07\n",
            "Epoch: 6   \t Batch:  60/248  \t Avg Train Loss: 15.76\n",
            "Epoch: 6   \t Batch:  70/248  \t Avg Train Loss: 15.90\n",
            "Epoch: 6   \t Batch:  80/248  \t Avg Train Loss: 15.79\n",
            "Epoch: 6   \t Batch:  90/248  \t Avg Train Loss: 15.88\n",
            "Epoch: 6   \t Batch: 100/248  \t Avg Train Loss: 15.99\n",
            "Epoch: 6   \t Batch: 110/248  \t Avg Train Loss: 15.94\n",
            "Epoch: 6   \t Batch: 120/248  \t Avg Train Loss: 15.90\n",
            "Epoch: 6   \t Batch: 130/248  \t Avg Train Loss: 15.93\n",
            "Epoch: 6   \t Batch: 140/248  \t Avg Train Loss: 15.81\n",
            "Epoch: 6   \t Batch: 150/248  \t Avg Train Loss: 15.83\n",
            "Epoch: 6   \t Batch: 160/248  \t Avg Train Loss: 15.85\n",
            "Epoch: 6   \t Batch: 170/248  \t Avg Train Loss: 15.88\n",
            "Epoch: 6   \t Batch: 180/248  \t Avg Train Loss: 15.95\n",
            "Epoch: 6   \t Batch: 190/248  \t Avg Train Loss: 15.95\n",
            "Epoch: 6   \t Batch: 200/248  \t Avg Train Loss: 15.92\n",
            "Epoch: 6   \t Batch: 210/248  \t Avg Train Loss: 15.93\n",
            "Epoch: 6   \t Batch: 220/248  \t Avg Train Loss: 15.90\n",
            "Epoch: 6   \t Batch: 230/248  \t Avg Train Loss: 15.86\n",
            "Epoch: 6   \t Batch: 240/248  \t Avg Train Loss: 15.88\n",
            "Epoch: 6   \t Batch:   0/62  \t Avg Test Loss: 17.04\n",
            "Epoch: 6   \t Batch:  10/62  \t Avg Test Loss: 16.74\n",
            "Epoch: 6   \t Batch:  20/62  \t Avg Test Loss: 16.31\n",
            "Epoch: 6   \t Batch:  30/62  \t Avg Test Loss: 16.05\n",
            "Epoch: 6   \t Batch:  40/62  \t Avg Test Loss: 15.92\n",
            "Epoch: 6   \t Batch:  50/62  \t Avg Test Loss: 15.92\n",
            "Epoch: 6   \t Batch:  60/62  \t Avg Test Loss: 16.01\n",
            "Epoch: 7   \t Batch:   0/248  \t Avg Train Loss: 16.46\n",
            "Epoch: 7   \t Batch:  10/248  \t Avg Train Loss: 15.20\n",
            "Epoch: 7   \t Batch:  20/248  \t Avg Train Loss: 15.15\n",
            "Epoch: 7   \t Batch:  30/248  \t Avg Train Loss: 15.58\n",
            "Epoch: 7   \t Batch:  40/248  \t Avg Train Loss: 15.74\n",
            "Epoch: 7   \t Batch:  50/248  \t Avg Train Loss: 15.91\n",
            "Epoch: 7   \t Batch:  60/248  \t Avg Train Loss: 16.09\n",
            "Epoch: 7   \t Batch:  70/248  \t Avg Train Loss: 16.13\n",
            "Epoch: 7   \t Batch:  80/248  \t Avg Train Loss: 16.16\n",
            "Epoch: 7   \t Batch:  90/248  \t Avg Train Loss: 16.27\n",
            "Epoch: 7   \t Batch: 100/248  \t Avg Train Loss: 16.21\n",
            "Epoch: 7   \t Batch: 110/248  \t Avg Train Loss: 16.10\n",
            "Epoch: 7   \t Batch: 120/248  \t Avg Train Loss: 15.91\n",
            "Epoch: 7   \t Batch: 130/248  \t Avg Train Loss: 15.88\n",
            "Epoch: 7   \t Batch: 140/248  \t Avg Train Loss: 15.97\n",
            "Epoch: 7   \t Batch: 150/248  \t Avg Train Loss: 15.86\n",
            "Epoch: 7   \t Batch: 160/248  \t Avg Train Loss: 15.88\n",
            "Epoch: 7   \t Batch: 170/248  \t Avg Train Loss: 15.89\n",
            "Epoch: 7   \t Batch: 180/248  \t Avg Train Loss: 15.90\n",
            "Epoch: 7   \t Batch: 190/248  \t Avg Train Loss: 15.91\n",
            "Epoch: 7   \t Batch: 200/248  \t Avg Train Loss: 15.88\n",
            "Epoch: 7   \t Batch: 210/248  \t Avg Train Loss: 15.83\n",
            "Epoch: 7   \t Batch: 220/248  \t Avg Train Loss: 15.86\n",
            "Epoch: 7   \t Batch: 230/248  \t Avg Train Loss: 15.86\n",
            "Epoch: 7   \t Batch: 240/248  \t Avg Train Loss: 15.81\n",
            "Epoch: 7   \t Batch:   0/62  \t Avg Test Loss: 15.99\n",
            "Epoch: 7   \t Batch:  10/62  \t Avg Test Loss: 16.89\n",
            "Epoch: 7   \t Batch:  20/62  \t Avg Test Loss: 16.29\n",
            "Epoch: 7   \t Batch:  30/62  \t Avg Test Loss: 16.56\n",
            "Epoch: 7   \t Batch:  40/62  \t Avg Test Loss: 16.33\n",
            "Epoch: 7   \t Batch:  50/62  \t Avg Test Loss: 16.11\n",
            "Epoch: 7   \t Batch:  60/62  \t Avg Test Loss: 16.20\n",
            "Epoch: 8   \t Batch:   0/248  \t Avg Train Loss: 21.56\n",
            "Epoch: 8   \t Batch:  10/248  \t Avg Train Loss: 16.43\n",
            "Epoch: 8   \t Batch:  20/248  \t Avg Train Loss: 15.84\n",
            "Epoch: 8   \t Batch:  30/248  \t Avg Train Loss: 15.96\n",
            "Epoch: 8   \t Batch:  40/248  \t Avg Train Loss: 16.13\n",
            "Epoch: 8   \t Batch:  50/248  \t Avg Train Loss: 16.07\n",
            "Epoch: 8   \t Batch:  60/248  \t Avg Train Loss: 15.88\n",
            "Epoch: 8   \t Batch:  70/248  \t Avg Train Loss: 15.89\n",
            "Epoch: 8   \t Batch:  80/248  \t Avg Train Loss: 15.93\n",
            "Epoch: 8   \t Batch:  90/248  \t Avg Train Loss: 15.73\n",
            "Epoch: 8   \t Batch: 100/248  \t Avg Train Loss: 15.71\n",
            "Epoch: 8   \t Batch: 110/248  \t Avg Train Loss: 15.57\n",
            "Epoch: 8   \t Batch: 120/248  \t Avg Train Loss: 15.71\n",
            "Epoch: 8   \t Batch: 130/248  \t Avg Train Loss: 15.70\n",
            "Epoch: 8   \t Batch: 140/248  \t Avg Train Loss: 15.65\n",
            "Epoch: 8   \t Batch: 150/248  \t Avg Train Loss: 15.65\n",
            "Epoch: 8   \t Batch: 160/248  \t Avg Train Loss: 15.62\n",
            "Epoch: 8   \t Batch: 170/248  \t Avg Train Loss: 15.62\n",
            "Epoch: 8   \t Batch: 180/248  \t Avg Train Loss: 15.61\n",
            "Epoch: 8   \t Batch: 190/248  \t Avg Train Loss: 15.59\n",
            "Epoch: 8   \t Batch: 200/248  \t Avg Train Loss: 15.66\n",
            "Epoch: 8   \t Batch: 210/248  \t Avg Train Loss: 15.74\n",
            "Epoch: 8   \t Batch: 220/248  \t Avg Train Loss: 15.78\n",
            "Epoch: 8   \t Batch: 230/248  \t Avg Train Loss: 15.78\n",
            "Epoch: 8   \t Batch: 240/248  \t Avg Train Loss: 15.75\n",
            "Epoch: 8   \t Batch:   0/62  \t Avg Test Loss: 14.89\n",
            "Epoch: 8   \t Batch:  10/62  \t Avg Test Loss: 15.05\n",
            "Epoch: 8   \t Batch:  20/62  \t Avg Test Loss: 14.93\n",
            "Epoch: 8   \t Batch:  30/62  \t Avg Test Loss: 15.29\n",
            "Epoch: 8   \t Batch:  40/62  \t Avg Test Loss: 15.79\n",
            "Epoch: 8   \t Batch:  50/62  \t Avg Test Loss: 16.04\n",
            "Epoch: 8   \t Batch:  60/62  \t Avg Test Loss: 16.15\n",
            "Epoch: 9   \t Batch:   0/248  \t Avg Train Loss: 14.94\n",
            "Epoch: 9   \t Batch:  10/248  \t Avg Train Loss: 15.66\n",
            "Epoch: 9   \t Batch:  20/248  \t Avg Train Loss: 15.98\n",
            "Epoch: 9   \t Batch:  30/248  \t Avg Train Loss: 15.78\n",
            "Epoch: 9   \t Batch:  40/248  \t Avg Train Loss: 15.40\n",
            "Epoch: 9   \t Batch:  50/248  \t Avg Train Loss: 15.37\n",
            "Epoch: 9   \t Batch:  60/248  \t Avg Train Loss: 15.27\n",
            "Epoch: 9   \t Batch:  70/248  \t Avg Train Loss: 15.17\n",
            "Epoch: 9   \t Batch:  80/248  \t Avg Train Loss: 15.36\n",
            "Epoch: 9   \t Batch:  90/248  \t Avg Train Loss: 15.47\n",
            "Epoch: 9   \t Batch: 100/248  \t Avg Train Loss: 15.44\n",
            "Epoch: 9   \t Batch: 110/248  \t Avg Train Loss: 15.45\n",
            "Epoch: 9   \t Batch: 120/248  \t Avg Train Loss: 15.55\n",
            "Epoch: 9   \t Batch: 130/248  \t Avg Train Loss: 15.50\n",
            "Epoch: 9   \t Batch: 140/248  \t Avg Train Loss: 15.57\n",
            "Epoch: 9   \t Batch: 150/248  \t Avg Train Loss: 15.57\n",
            "Epoch: 9   \t Batch: 160/248  \t Avg Train Loss: 15.63\n",
            "Epoch: 9   \t Batch: 170/248  \t Avg Train Loss: 15.61\n",
            "Epoch: 9   \t Batch: 180/248  \t Avg Train Loss: 15.60\n",
            "Epoch: 9   \t Batch: 190/248  \t Avg Train Loss: 15.63\n",
            "Epoch: 9   \t Batch: 200/248  \t Avg Train Loss: 15.64\n",
            "Epoch: 9   \t Batch: 210/248  \t Avg Train Loss: 15.61\n",
            "Epoch: 9   \t Batch: 220/248  \t Avg Train Loss: 15.62\n",
            "Epoch: 9   \t Batch: 230/248  \t Avg Train Loss: 15.59\n",
            "Epoch: 9   \t Batch: 240/248  \t Avg Train Loss: 15.56\n",
            "Epoch: 9   \t Batch:   0/62  \t Avg Test Loss: 16.08\n",
            "Epoch: 9   \t Batch:  10/62  \t Avg Test Loss: 16.22\n",
            "Epoch: 9   \t Batch:  20/62  \t Avg Test Loss: 16.36\n",
            "Epoch: 9   \t Batch:  30/62  \t Avg Test Loss: 16.51\n",
            "Epoch: 9   \t Batch:  40/62  \t Avg Test Loss: 16.55\n",
            "Epoch: 9   \t Batch:  50/62  \t Avg Test Loss: 16.31\n",
            "Epoch: 9   \t Batch:  60/62  \t Avg Test Loss: 16.02\n"
          ]
        }
      ],
      "source": [
        "avg_train_loss, avg_test_loss = [], []\n",
        "\n",
        "for epoch in range(epochs):\n",
        "    \n",
        "    train_loss, test_loss = 0, 0 \n",
        "\n",
        "    i = 0\n",
        "    for inputs, labels in train_data:\n",
        "        inputs = inputs.to(device)\n",
        "        labels = labels.reshape(len(labels), 1).to(device)\n",
        "        \n",
        "        # zero out gradients\n",
        "        optimizer.zero_grad()\n",
        "        \n",
        "        outputs = efficient_net(inputs)\n",
        "        loss = criterion(outputs, labels)\n",
        "        train_loss += loss\n",
        "        loss.backward()\n",
        "        optimizer.step()\n",
        "        \n",
        "        if i % 10 == 0:\n",
        "            print('Epoch: {:<3d} \\t Batch: {:>3d}/{:<3d}  \\t Avg Train Loss: {:>3.2f}'.format(epoch, i, len(train_data), train_loss/(i+1)))\n",
        "        i += 1\n",
        "\n",
        "    v = 0\n",
        "    for test_inputs, test_labels in test_data:\n",
        "        test_inputs = test_inputs.to(device)\n",
        "        test_labels = test_labels.reshape(len(test_labels), 1).to(device)\n",
        "        \n",
        "        with torch.no_grad():\n",
        "            test_out = efficient_net(test_inputs)\n",
        "            tloss = criterion(test_out, test_labels)\n",
        "            test_loss += tloss\n",
        "            \n",
        "        if v % 10 == 0:\n",
        "            print('Epoch: {:<3d} \\t Batch: {:>3d}/{:<3d} \\t Avg Test Loss: {:>3.2f}'.format(epoch, v, len(test_data), test_loss/(v+1)))\n",
        "        v += 1\n",
        "\n",
        "    avg_train_loss.append(train_loss / len(train_data))\n",
        "    avg_test_loss.append(test_loss / len(test_data))"
      ]
    },
    {
      "cell_type": "code",
      "source": [
        "avg_test_loss"
      ],
      "metadata": {
        "colab": {
          "base_uri": "https://localhost:8080/"
        },
        "id": "Lkto0rhhmQii",
        "outputId": "b3196dc8-6742-4e62-880b-a05f3d9067c0"
      },
      "execution_count": 13,
      "outputs": [
        {
          "output_type": "execute_result",
          "data": {
            "text/plain": [
              "[tensor(17.2793, device='cuda:0'),\n",
              " tensor(16.4759, device='cuda:0'),\n",
              " tensor(16.4965, device='cuda:0'),\n",
              " tensor(16.6577, device='cuda:0'),\n",
              " tensor(16.2983, device='cuda:0'),\n",
              " tensor(16.0386, device='cuda:0'),\n",
              " tensor(16.0859, device='cuda:0'),\n",
              " tensor(16.1571, device='cuda:0'),\n",
              " tensor(16.1047, device='cuda:0'),\n",
              " tensor(15.9391, device='cuda:0')]"
            ]
          },
          "metadata": {},
          "execution_count": 13
        }
      ]
    },
    {
      "cell_type": "code",
      "source": [
        "avg_train_loss"
      ],
      "metadata": {
        "colab": {
          "base_uri": "https://localhost:8080/"
        },
        "id": "Oaf-hXIumUHe",
        "outputId": "d1a61679-68c9-499a-8761-fc6f43e1baab"
      },
      "execution_count": 14,
      "outputs": [
        {
          "output_type": "execute_result",
          "data": {
            "text/plain": [
              "[tensor(19.4818, device='cuda:0', grad_fn=<DivBackward0>),\n",
              " tensor(17.2330, device='cuda:0', grad_fn=<DivBackward0>),\n",
              " tensor(16.3887, device='cuda:0', grad_fn=<DivBackward0>),\n",
              " tensor(16.2743, device='cuda:0', grad_fn=<DivBackward0>),\n",
              " tensor(16.0690, device='cuda:0', grad_fn=<DivBackward0>),\n",
              " tensor(16.1146, device='cuda:0', grad_fn=<DivBackward0>),\n",
              " tensor(15.8608, device='cuda:0', grad_fn=<DivBackward0>),\n",
              " tensor(15.8354, device='cuda:0', grad_fn=<DivBackward0>),\n",
              " tensor(15.7790, device='cuda:0', grad_fn=<DivBackward0>),\n",
              " tensor(15.5984, device='cuda:0', grad_fn=<DivBackward0>)]"
            ]
          },
          "metadata": {},
          "execution_count": 14
        }
      ]
    },
    {
      "cell_type": "code",
      "source": [
        "torch.stack(avg_train_loss).cpu().detach().numpy()"
      ],
      "metadata": {
        "colab": {
          "base_uri": "https://localhost:8080/"
        },
        "id": "hxTrEbBhnGoY",
        "outputId": "4e8a3bf7-c527-47a9-fa0c-3cd6ca91c436"
      },
      "execution_count": 15,
      "outputs": [
        {
          "output_type": "execute_result",
          "data": {
            "text/plain": [
              "array([19.481834, 17.232994, 16.388685, 16.27425 , 16.06902 , 16.114555,\n",
              "       15.860844, 15.835362, 15.778984, 15.598387], dtype=float32)"
            ]
          },
          "metadata": {},
          "execution_count": 15
        }
      ]
    },
    {
      "cell_type": "code",
      "source": [
        "ep = np.arange(epochs)\n",
        "\n",
        "plt.plot(ep, torch.stack(avg_train_loss).cpu().detach().numpy(), label='train loss')\n",
        "plt.plot(ep, torch.stack(avg_test_loss).cpu().detach().numpy(), label='test loss')\n",
        "plt.xlabel('epoch')\n",
        "plt.ylabel('loss')\n",
        "plt.title('Train & Test Loss by Epoch ')\n",
        "plt.legend()"
      ],
      "metadata": {
        "colab": {
          "base_uri": "https://localhost:8080/",
          "height": 313
        },
        "id": "VZn2bsb6mhUx",
        "outputId": "cf2069e4-83b8-42a0-a873-9efd66a48562"
      },
      "execution_count": 16,
      "outputs": [
        {
          "output_type": "execute_result",
          "data": {
            "text/plain": [
              "<matplotlib.legend.Legend at 0x7f5b9a59e2d0>"
            ]
          },
          "metadata": {},
          "execution_count": 16
        },
        {
          "output_type": "display_data",
          "data": {
            "text/plain": [
              "<Figure size 432x288 with 1 Axes>"
            ],
            "image/png": "[encoded data removed]"
          },
          "metadata": {
            "needs_background": "light"
          }
        }
      ]
    },
    {
      "cell_type": "code",
      "source": [
        "path = '/content/drive/MyDrive/Colab Notebooks/'\n",
        "pickle.dump(efficient_net, open(path + 'eff_net.sav', 'wb'))"
      ],
      "metadata": {
        "id": "fFPHhPX8dy6Y"
      },
      "execution_count": 23,
      "outputs": []
    }
  ],
  "metadata": {
    "accelerator": "GPU",
    "colab": {
      "collapsed_sections": [],
      "name": "Petfinder Models.ipynb",
      "provenance": []
    },
    "kernelspec": {
      "display_name": "Python 3",
      "name": "python3"
    },
    "language_info": {
      "name": "python"
    },
    "widgets": {
      "application/vnd.jupyter.widget-state+json": {
        "bb8cab14919a48c1b82ccd080f6c1d4e": {
          "model_module": "@jupyter-widgets/controls",
          "model_name": "HBoxModel",
          "model_module_version": "1.5.0",
          "state": {
            "_dom_classes": [],
            "_model_module": "@jupyter-widgets/controls",
            "_model_module_version": "1.5.0",
            "_model_name": "HBoxModel",
            "_view_count": null,
            "_view_module": "@jupyter-widgets/controls",
            "_view_module_version": "1.5.0",
            "_view_name": "HBoxView",
            "box_style": "",
            "children": [
              "IPY_MODEL_65b9ea68e82f4a0a84289e26515e887e",
              "IPY_MODEL_57f8d954eed14b659445c210e63fa276",
              "IPY_MODEL_d98b55b96de64eeb8ddf750d9d980ace"
            ],
            "layout": "IPY_MODEL_55d10bfdf1fc4074b500b54c90b4a34e"
          }
        },
        "65b9ea68e82f4a0a84289e26515e887e": {
          "model_module": "@jupyter-widgets/controls",
          "model_name": "HTMLModel",
          "model_module_version": "1.5.0",
          "state": {
            "_dom_classes": [],
            "_model_module": "@jupyter-widgets/controls",
            "_model_module_version": "1.5.0",
            "_model_name": "HTMLModel",
            "_view_count": null,
            "_view_module": "@jupyter-widgets/controls",
            "_view_module_version": "1.5.0",
            "_view_name": "HTMLView",
            "description": "",
            "description_tooltip": null,
            "layout": "IPY_MODEL_cc50f7c968214c979698584845dc9027",
            "placeholder": "​",
            "style": "IPY_MODEL_19d6d51f5c634787a100e7116fd4f233",
            "value": "100%"
          }
        },
        "57f8d954eed14b659445c210e63fa276": {
          "model_module": "@jupyter-widgets/controls",
          "model_name": "FloatProgressModel",
          "model_module_version": "1.5.0",
          "state": {
            "_dom_classes": [],
            "_model_module": "@jupyter-widgets/controls",
            "_model_module_version": "1.5.0",
            "_model_name": "FloatProgressModel",
            "_view_count": null,
            "_view_module": "@jupyter-widgets/controls",
            "_view_module_version": "1.5.0",
            "_view_name": "ProgressView",
            "bar_style": "success",
            "description": "",
            "description_tooltip": null,
            "layout": "IPY_MODEL_11ebcdf7e20e4a238c064fdb40dd97ca",
            "max": 49475909,
            "min": 0,
            "orientation": "horizontal",
            "style": "IPY_MODEL_dcd2f4a114de435aa4b0c7e03e0521fd",
            "value": 49475909
          }
        },
        "d98b55b96de64eeb8ddf750d9d980ace": {
          "model_module": "@jupyter-widgets/controls",
          "model_name": "HTMLModel",
          "model_module_version": "1.5.0",
          "state": {
            "_dom_classes": [],
            "_model_module": "@jupyter-widgets/controls",
            "_model_module_version": "1.5.0",
            "_model_name": "HTMLModel",
            "_view_count": null,
            "_view_module": "@jupyter-widgets/controls",
            "_view_module_version": "1.5.0",
            "_view_name": "HTMLView",
            "description": "",
            "description_tooltip": null,
            "layout": "IPY_MODEL_c0d3eaac1a13465bb83982d9dd548259",
            "placeholder": "​",
            "style": "IPY_MODEL_e520c18de15c4ec6b26d4580bc15c200",
            "value": " 47.2M/47.2M [00:00&lt;00:00, 95.5MB/s]"
          }
        },
        "55d10bfdf1fc4074b500b54c90b4a34e": {
          "model_module": "@jupyter-widgets/base",
          "model_name": "LayoutModel",
          "model_module_version": "1.2.0",
          "state": {
            "_model_module": "@jupyter-widgets/base",
            "_model_module_version": "1.2.0",
            "_model_name": "LayoutModel",
            "_view_count": null,
            "_view_module": "@jupyter-widgets/base",
            "_view_module_version": "1.2.0",
            "_view_name": "LayoutView",
            "align_content": null,
            "align_items": null,
            "align_self": null,
            "border": null,
            "bottom": null,
            "display": null,
            "flex": null,
            "flex_flow": null,
            "grid_area": null,
            "grid_auto_columns": null,
            "grid_auto_flow": null,
            "grid_auto_rows": null,
            "grid_column": null,
            "grid_gap": null,
            "grid_row": null,
            "grid_template_areas": null,
            "grid_template_columns": null,
            "grid_template_rows": null,
            "height": null,
            "justify_content": null,
            "justify_items": null,
            "left": null,
            "margin": null,
            "max_height": null,
            "max_width": null,
            "min_height": null,
            "min_width": null,
            "object_fit": null,
            "object_position": null,
            "order": null,
            "overflow": null,
            "overflow_x": null,
            "overflow_y": null,
            "padding": null,
            "right": null,
            "top": null,
            "visibility": null,
            "width": null
          }
        },
        "cc50f7c968214c979698584845dc9027": {
          "model_module": "@jupyter-widgets/base",
          "model_name": "LayoutModel",
          "model_module_version": "1.2.0",
          "state": {
            "_model_module": "@jupyter-widgets/base",
            "_model_module_version": "1.2.0",
            "_model_name": "LayoutModel",
            "_view_count": null,
            "_view_module": "@jupyter-widgets/base",
            "_view_module_version": "1.2.0",
            "_view_name": "LayoutView",
            "align_content": null,
            "align_items": null,
            "align_self": null,
            "border": null,
            "bottom": null,
            "display": null,
            "flex": null,
            "flex_flow": null,
            "grid_area": null,
            "grid_auto_columns": null,
            "grid_auto_flow": null,
            "grid_auto_rows": null,
            "grid_column": null,
            "grid_gap": null,
            "grid_row": null,
            "grid_template_areas": null,
            "grid_template_columns": null,
            "grid_template_rows": null,
            "height": null,
            "justify_content": null,
            "justify_items": null,
            "left": null,
            "margin": null,
            "max_height": null,
            "max_width": null,
            "min_height": null,
            "min_width": null,
            "object_fit": null,
            "object_position": null,
            "order": null,
            "overflow": null,
            "overflow_x": null,
            "overflow_y": null,
            "padding": null,
            "right": null,
            "top": null,
            "visibility": null,
            "width": null
          }
        },
        "19d6d51f5c634787a100e7116fd4f233": {
          "model_module": "@jupyter-widgets/controls",
          "model_name": "DescriptionStyleModel",
          "model_module_version": "1.5.0",
          "state": {
            "_model_module": "@jupyter-widgets/controls",
            "_model_module_version": "1.5.0",
            "_model_name": "DescriptionStyleModel",
            "_view_count": null,
            "_view_module": "@jupyter-widgets/base",
            "_view_module_version": "1.2.0",
            "_view_name": "StyleView",
            "description_width": ""
          }
        },
        "11ebcdf7e20e4a238c064fdb40dd97ca": {
          "model_module": "@jupyter-widgets/base",
          "model_name": "LayoutModel",
          "model_module_version": "1.2.0",
          "state": {
            "_model_module": "@jupyter-widgets/base",
            "_model_module_version": "1.2.0",
            "_model_name": "LayoutModel",
            "_view_count": null,
            "_view_module": "@jupyter-widgets/base",
            "_view_module_version": "1.2.0",
            "_view_name": "LayoutView",
            "align_content": null,
            "align_items": null,
            "align_self": null,
            "border": null,
            "bottom": null,
            "display": null,
            "flex": null,
            "flex_flow": null,
            "grid_area": null,
            "grid_auto_columns": null,
            "grid_auto_flow": null,
            "grid_auto_rows": null,
            "grid_column": null,
            "grid_gap": null,
            "grid_row": null,
            "grid_template_areas": null,
            "grid_template_columns": null,
            "grid_template_rows": null,
            "height": null,
            "justify_content": null,
            "justify_items": null,
            "left": null,
            "margin": null,
            "max_height": null,
            "max_width": null,
            "min_height": null,
            "min_width": null,
            "object_fit": null,
            "object_position": null,
            "order": null,
            "overflow": null,
            "overflow_x": null,
            "overflow_y": null,
            "padding": null,
            "right": null,
            "top": null,
            "visibility": null,
            "width": null
          }
        },
        "dcd2f4a114de435aa4b0c7e03e0521fd": {
          "model_module": "@jupyter-widgets/controls",
          "model_name": "ProgressStyleModel",
          "model_module_version": "1.5.0",
          "state": {
            "_model_module": "@jupyter-widgets/controls",
            "_model_module_version": "1.5.0",
            "_model_name": "ProgressStyleModel",
            "_view_count": null,
            "_view_module": "@jupyter-widgets/base",
            "_view_module_version": "1.2.0",
            "_view_name": "StyleView",
            "bar_color": null,
            "description_width": ""
          }
        },
        "c0d3eaac1a13465bb83982d9dd548259": {
          "model_module": "@jupyter-widgets/base",
          "model_name": "LayoutModel",
          "model_module_version": "1.2.0",
          "state": {
            "_model_module": "@jupyter-widgets/base",
            "_model_module_version": "1.2.0",
            "_model_name": "LayoutModel",
            "_view_count": null,
            "_view_module": "@jupyter-widgets/base",
            "_view_module_version": "1.2.0",
            "_view_name": "LayoutView",
            "align_content": null,
            "align_items": null,
            "align_self": null,
            "border": null,
            "bottom": null,
            "display": null,
            "flex": null,
            "flex_flow": null,
            "grid_area": null,
            "grid_auto_columns": null,
            "grid_auto_flow": null,
            "grid_auto_rows": null,
            "grid_column": null,
            "grid_gap": null,
            "grid_row": null,
            "grid_template_areas": null,
            "grid_template_columns": null,
            "grid_template_rows": null,
            "height": null,
            "justify_content": null,
            "justify_items": null,
            "left": null,
            "margin": null,
            "max_height": null,
            "max_width": null,
            "min_height": null,
            "min_width": null,
            "object_fit": null,
            "object_position": null,
            "order": null,
            "overflow": null,
            "overflow_x": null,
            "overflow_y": null,
            "padding": null,
            "right": null,
            "top": null,
            "visibility": null,
            "width": null
          }
        },
        "e520c18de15c4ec6b26d4580bc15c200": {
          "model_module": "@jupyter-widgets/controls",
          "model_name": "DescriptionStyleModel",
          "model_module_version": "1.5.0",
          "state": {
            "_model_module": "@jupyter-widgets/controls",
            "_model_module_version": "1.5.0",
            "_model_name": "DescriptionStyleModel",
            "_view_count": null,
            "_view_module": "@jupyter-widgets/base",
            "_view_module_version": "1.2.0",
            "_view_name": "StyleView",
            "description_width": ""
          }
        }
      }
    }
  },
  "nbformat": 4,
  "nbformat_minor": 0
}